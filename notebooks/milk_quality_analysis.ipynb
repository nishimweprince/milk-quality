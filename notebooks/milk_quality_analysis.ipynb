{
 "cells": [
  {
   "cell_type": "markdown",
   "metadata": {},
   "source": [
    "# Milk Quality Analysis and Machine Learning Pipeline\n",
    "\n",
    "This notebook outlines the process of generating synthetic sensor data for milk quality analysis, performing exploratory data analysis (EDA), preprocessing, training a Random Forest classifier, and saving the model components for deployment."
   ]
  },
  {
   "cell_type": "code",
   "execution_count": 4,
   "metadata": {},
   "outputs": [],
   "source": [
    "import numpy as np\n",
    "import pandas as pd\n",
    "import matplotlib.pyplot as plt\n",
    "import seaborn as sns\n",
    "from sklearn.model_selection import train_test_split, cross_val_score\n",
    "from sklearn.ensemble import RandomForestClassifier\n",
    "from sklearn.preprocessing import StandardScaler, LabelEncoder\n",
    "from sklearn.metrics import classification_report, confusion_matrix\n",
    "import joblib\n",
    "import os"
   ]
  },
  {
   "cell_type": "markdown",
   "metadata": {},
   "source": [
    "## 1. Generate Synthetic Training Data\n",
    "The synthetic data simulates sensor readings from milk quality monitoring equipment."
   ]
  },
  {
   "cell_type": "code",
   "execution_count": null,
   "metadata": {},
   "outputs": [],
   "source": [
    "def generate_training_data(n_samples=200000):\n",
    "    np.random.seed(42)\n",
    "    ph_values = np.random.uniform(6.0, 7.5, n_samples)\n",
    "    turbidity = np.random.uniform(0.5, 10.0, n_samples)\n",
    "    ec_values = np.random.uniform(4.0, 6.0, n_samples)\n",
    "    protein_content = np.random.uniform(1.8, 3.8, n_samples)\n",
    "    \n",
    "    w1, w2, C = 1.2, 2.0, 1000\n",
    "    scc_values = (w1 * ec_values) + (w2 * turbidity) + C\n",
    "    scc_values += np.random.normal(0, 500, n_samples)\n",
    "    scc_values = np.abs(scc_values)\n",
    "    \n",
    "    quality_categories = []\n",
    "    for scc in scc_values:\n",
    "        if scc <= 200000:\n",
    "            quality_categories.append('Negative')\n",
    "        elif scc <= 400000:\n",
    "            quality_categories.append('Trace')\n",
    "        elif scc <= 1200000:\n",
    "            quality_categories.append('Weak_Positive')\n",
    "        elif scc <= 5000000:\n",
    "            quality_categories.append('Distinct_Positive')\n",
    "        else:\n",
    "            quality_categories.append('Definite_Positive')\n",
    "\n",
    "    return pd.DataFrame({\n",
    "        'pH': ph_values,\n",
    "        'Turbidity': turbidity,\n",
    "        'EC': ec_values,\n",
    "        'Protein': protein_content,\n",
    "        'SCC': scc_values,\n",
    "        'MilkQuality': quality_categories\n",
    "    })\n",
    "\n",
    "df = generate_training_data()\n",
    "df.head()"
   ]
  },
  {
   "cell_type": "markdown",
   "metadata": {},
   "source": [
    "## 2. Exploratory Data Analysis (EDA)\n",
    "Let's visualize the distribution of features and the target label."
   ]
  },
  {
   "cell_type": "code",
   "execution_count": null,
   "metadata": {},
   "outputs": [],
   "source": [
    "sns.pairplot(df.sample(1000), hue='MilkQuality')\n",
    "plt.suptitle('Pairplot of Sampled Milk Data', y=1.02)\n",
    "plt.show()"
   ]
  },
  {
   "cell_type": "code",
   "execution_count": null,
   "metadata": {},
   "outputs": [],
   "source": [
    "plt.figure(figsize=(12,6))\n",
    "sns.countplot(data=df, x='MilkQuality', order=df['MilkQuality'].value_counts().index, palette='viridis')\n",
    "plt.title('Milk Quality Distribution')\n",
    "plt.ylabel('Count')\n",
    "plt.xlabel('Quality Category')\n",
    "plt.xticks(rotation=45)\n",
    "plt.tight_layout()\n",
    "plt.show()"
   ]
  },
  {
   "cell_type": "markdown",
   "metadata": {},
   "source": [
    "## 3. Preprocessing\n",
    "We will scale the features and encode the target labels."
   ]
  },
  {
   "cell_type": "code",
   "execution_count": null,
   "metadata": {},
   "outputs": [],
   "source": [
    "X = df[['pH', 'Turbidity', 'EC', 'Protein', 'SCC']]\n",
    "y = df['MilkQuality']\n",
    "\n",
    "scaler = StandardScaler()\n",
    "X_scaled = scaler.fit_transform(X)\n",
    "\n",
    "label_encoder = LabelEncoder()\n",
    "y_encoded = label_encoder.fit_transform(y)"
   ]
  },
  {
   "cell_type": "markdown",
   "metadata": {},
   "source": [
    "## 4. Train/Test Split\n",
    "Split the data for training and evaluation."
   ]
  },
  {
   "cell_type": "code",
   "execution_count": null,
   "metadata": {},
   "outputs": [],
   "source": [
    "X_train, X_test, y_train, y_test = train_test_split(X_scaled, y_encoded, test_size=0.2, random_state=42, stratify=y_encoded)"
   ]
  },
  {
   "cell_type": "markdown",
   "metadata": {},
   "source": [
    "## 5. Model Training\n",
    "We use a Random Forest Classifier."
   ]
  },
  {
   "cell_type": "code",
   "execution_count": null,
   "metadata": {},
   "outputs": [],
   "source": [
    "model = RandomForestClassifier(n_estimators=100, random_state=42)\n",
    "model.fit(X_train, y_train)"
   ]
  },
  {
   "cell_type": "markdown",
   "metadata": {},
   "source": [
    "## 6. Evaluation\n",
    "We'll look at classification performance and a confusion matrix."
   ]
  },
  {
   "cell_type": "code",
   "execution_count": null,
   "metadata": {},
   "outputs": [],
   "source": [
    "y_pred = model.predict(X_test)\n",
    "print(classification_report(y_test, y_pred, target_names=label_encoder.classes_))"
   ]
  },
  {
   "cell_type": "code",
   "execution_count": null,
   "metadata": {},
   "outputs": [],
   "source": [
    "conf_mat = confusion_matrix(y_test, y_pred)\n",
    "plt.figure(figsize=(10, 6))\n",
    "sns.heatmap(conf_mat, annot=True, fmt='d', xticklabels=label_encoder.classes_, yticklabels=label_encoder.classes_, cmap='Blues')\n",
    "plt.title('Confusion Matrix')\n",
    "plt.xlabel('Predicted')\n",
    "plt.ylabel('Actual')\n",
    "plt.tight_layout()\n",
    "plt.show()"
   ]
  },
  {
   "cell_type": "markdown",
   "metadata": {},
   "source": [
    "## 7. Save Trained Artifacts\n",
    "Store the model and preprocessing components for use in production."
   ]
  },
  {
   "cell_type": "code",
   "execution_count": null,
   "metadata": {},
   "outputs": [],
   "source": [
    "os.makedirs('models', exist_ok=True)\n",
    "joblib.dump(model, 'models/milk_quality_model.pkl')\n",
    "joblib.dump(scaler, 'models/scaler.pkl')\n",
    "joblib.dump(label_encoder, 'models/label_encoder.pkl')\n",
    "print(\"Models saved successfully.\")"
   ]
  }
 ],
 "metadata": {
  "kernelspec": {
   "display_name": "venv",
   "language": "python",
   "name": "python3"
  },
  "language_info": {
   "codemirror_mode": {
    "name": "ipython",
    "version": 3
   },
   "file_extension": ".py",
   "mimetype": "text/x-python",
   "name": "python",
   "nbconvert_exporter": "python",
   "pygments_lexer": "ipython3",
   "version": "3.11.8"
  }
 },
 "nbformat": 4,
 "nbformat_minor": 5
}
